{
 "cells": [
  {
   "cell_type": "code",
   "execution_count": 1,
   "metadata": {},
   "outputs": [
    {
     "name": "stdout",
     "output_type": "stream",
     "text": [
      "Images\\a.jpg\n",
      "[[[29 18 14]\n",
      "  [27 18 14]\n",
      "  [25 19 14]\n",
      "  ...\n",
      "  [22 18 13]\n",
      "  [21 12  8]\n",
      "  [64 55 51]]\n",
      "\n",
      " [[10  1  0]\n",
      "  [10  1  0]\n",
      "  [ 6  2  0]\n",
      "  ...\n",
      "  [ 9  5  0]\n",
      "  [ 7  1  0]\n",
      "  [50 44 39]]\n",
      "\n",
      " [[ 9  2  0]\n",
      "  [ 7  2  0]\n",
      "  [ 7  2  0]\n",
      "  ...\n",
      "  [10  5  2]\n",
      "  [ 5  0  0]\n",
      "  [49 44 41]]\n",
      "\n",
      " ...\n",
      "\n",
      " [[ 5  0  1]\n",
      "  [ 5  0  1]\n",
      "  [ 5  0  1]\n",
      "  ...\n",
      "  [ 7  2  3]\n",
      "  [ 5  0  1]\n",
      "  [47 42 43]]\n",
      "\n",
      " [[ 5  0  1]\n",
      "  [ 5  0  1]\n",
      "  [ 5  0  1]\n",
      "  ...\n",
      "  [ 7  2  3]\n",
      "  [ 5  0  1]\n",
      "  [47 42 43]]\n",
      "\n",
      " [[ 5  0  1]\n",
      "  [ 5  0  1]\n",
      "  [ 5  0  1]\n",
      "  ...\n",
      "  [ 7  2  3]\n",
      "  [ 5  0  1]\n",
      "  [47 42 43]]]\n"
     ]
    }
   ],
   "source": [
    "import cv2\n",
    "import glob\n",
    "\n",
    "path = \"Images/*\"\n",
    "for file in glob.glob(path):\n",
    "    print(file)\n",
    "    a = cv2.imread(file)\n",
    "    print(a)\n",
    "    cv2.imshow(\"Origanl Image\", a)\n",
    "    cv2.waitKey(0)\n",
    "    cv2.destroyAllWindows()    \n",
    "\n",
    "    c = cv2.cvtColor(a, cv2.COLOR_BGR2RGB)\n",
    "    cv2.imshow(\"Color Image\", c)\n",
    "    cv2.waitKey(0)\n",
    "    cv2.destroyAllWindows()    "
   ]
  }
 ],
 "metadata": {
  "kernelspec": {
   "display_name": "aniket",
   "language": "python",
   "name": "python3"
  },
  "language_info": {
   "codemirror_mode": {
    "name": "ipython",
    "version": 3
   },
   "file_extension": ".py",
   "mimetype": "text/x-python",
   "name": "python",
   "nbconvert_exporter": "python",
   "pygments_lexer": "ipython3",
   "version": "3.8.13"
  },
  "orig_nbformat": 4
 },
 "nbformat": 4,
 "nbformat_minor": 2
}
