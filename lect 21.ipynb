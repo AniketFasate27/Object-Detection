{
 "cells": [
  {
   "cell_type": "code",
   "execution_count": 6,
   "metadata": {},
   "outputs": [
    {
     "ename": "ValueError",
     "evalue": "Image dimensions and neighborhood dimensionsdo not match",
     "output_type": "error",
     "traceback": [
      "\u001b[1;31m---------------------------------------------------------------------------\u001b[0m",
      "\u001b[1;31mValueError\u001b[0m                                Traceback (most recent call last)",
      "Cell \u001b[1;32mIn[6], line 10\u001b[0m\n\u001b[0;32m      6\u001b[0m \u001b[39mimport\u001b[39;00m \u001b[39mnumpy\u001b[39;00m \u001b[39mas\u001b[39;00m \u001b[39mnp\u001b[39;00m\n\u001b[0;32m      8\u001b[0m img \u001b[39m=\u001b[39m io\u001b[39m.\u001b[39mimread(\u001b[39m\"\u001b[39m\u001b[39mImages/a.jpg\u001b[39m\u001b[39m\"\u001b[39m)\n\u001b[1;32m---> 10\u001b[0m entropy_img \u001b[39m=\u001b[39m entropy(img, disk(\u001b[39m10\u001b[39;49m))\n\u001b[0;32m     11\u001b[0m plt\u001b[39m.\u001b[39mimshow(entropy_img)\n",
      "File \u001b[1;32mc:\\Users\\anifa\\.conda\\envs\\aniket\\lib\\site-packages\\skimage\\filters\\rank\\generic.py:1284\u001b[0m, in \u001b[0;36mentropy\u001b[1;34m(image, footprint, out, mask, shift_x, shift_y, shift_z)\u001b[0m\n\u001b[0;32m   1279\u001b[0m     \u001b[39mreturn\u001b[39;00m _apply_scalar_per_pixel(generic_cy\u001b[39m.\u001b[39m_entropy, image, footprint,\n\u001b[0;32m   1280\u001b[0m                                    out\u001b[39m=\u001b[39mout, mask\u001b[39m=\u001b[39mmask,\n\u001b[0;32m   1281\u001b[0m                                    shift_x\u001b[39m=\u001b[39mshift_x, shift_y\u001b[39m=\u001b[39mshift_y,\n\u001b[0;32m   1282\u001b[0m                                    out_dtype\u001b[39m=\u001b[39mnp\u001b[39m.\u001b[39mfloat64)\n\u001b[0;32m   1283\u001b[0m \u001b[39melif\u001b[39;00m np_image\u001b[39m.\u001b[39mndim \u001b[39m==\u001b[39m \u001b[39m3\u001b[39m:\n\u001b[1;32m-> 1284\u001b[0m     \u001b[39mreturn\u001b[39;00m _apply_scalar_per_pixel_3D(generic_cy\u001b[39m.\u001b[39;49m_entropy_3D, image,\n\u001b[0;32m   1285\u001b[0m                                       footprint, out\u001b[39m=\u001b[39;49mout, mask\u001b[39m=\u001b[39;49mmask,\n\u001b[0;32m   1286\u001b[0m                                       shift_x\u001b[39m=\u001b[39;49mshift_x, shift_y\u001b[39m=\u001b[39;49mshift_y,\n\u001b[0;32m   1287\u001b[0m                                       shift_z\u001b[39m=\u001b[39;49mshift_z,\n\u001b[0;32m   1288\u001b[0m                                       out_dtype\u001b[39m=\u001b[39;49mnp\u001b[39m.\u001b[39;49mfloat64)\n\u001b[0;32m   1289\u001b[0m \u001b[39mraise\u001b[39;00m \u001b[39mValueError\u001b[39;00m(\n\u001b[0;32m   1290\u001b[0m     \u001b[39mf\u001b[39m\u001b[39m'\u001b[39m\u001b[39m`image` must have 2 or 3 dimensions, got \u001b[39m\u001b[39m{\u001b[39;00mnp_image\u001b[39m.\u001b[39mndim\u001b[39m}\u001b[39;00m\u001b[39m.\u001b[39m\u001b[39m'\u001b[39m\n\u001b[0;32m   1291\u001b[0m )\n",
      "File \u001b[1;32mc:\\Users\\anifa\\.conda\\envs\\aniket\\lib\\site-packages\\skimage\\filters\\rank\\generic.py:282\u001b[0m, in \u001b[0;36m_apply_scalar_per_pixel_3D\u001b[1;34m(func, image, footprint, out, mask, shift_x, shift_y, shift_z, out_dtype)\u001b[0m\n\u001b[0;32m    279\u001b[0m \u001b[39mdef\u001b[39;00m \u001b[39m_apply_scalar_per_pixel_3D\u001b[39m(func, image, footprint, out, mask, shift_x,\n\u001b[0;32m    280\u001b[0m                                shift_y, shift_z, out_dtype\u001b[39m=\u001b[39m\u001b[39mNone\u001b[39;00m):\n\u001b[1;32m--> 282\u001b[0m     image, footprint, out, mask, n_bins \u001b[39m=\u001b[39m _handle_input_3D(\n\u001b[0;32m    283\u001b[0m         image, footprint, out, mask, out_dtype\n\u001b[0;32m    284\u001b[0m     )\n\u001b[0;32m    286\u001b[0m     func(image, footprint, shift_x\u001b[39m=\u001b[39mshift_x, shift_y\u001b[39m=\u001b[39mshift_y, shift_z\u001b[39m=\u001b[39mshift_z,\n\u001b[0;32m    287\u001b[0m          mask\u001b[39m=\u001b[39mmask, out\u001b[39m=\u001b[39mout, n_bins\u001b[39m=\u001b[39mn_bins)\n\u001b[0;32m    289\u001b[0m     \u001b[39mreturn\u001b[39;00m out\u001b[39m.\u001b[39mreshape(out\u001b[39m.\u001b[39mshape[:\u001b[39m3\u001b[39m])\n",
      "File \u001b[1;32mc:\\Users\\anifa\\.conda\\envs\\aniket\\lib\\site-packages\\skimage\\filters\\rank\\generic.py:204\u001b[0m, in \u001b[0;36m_handle_input_3D\u001b[1;34m(image, footprint, out, mask, out_dtype, pixel_size)\u001b[0m\n\u001b[0;32m    202\u001b[0m footprint \u001b[39m=\u001b[39m np\u001b[39m.\u001b[39mascontiguousarray(img_as_ubyte(footprint \u001b[39m>\u001b[39m \u001b[39m0\u001b[39m))\n\u001b[0;32m    203\u001b[0m \u001b[39mif\u001b[39;00m footprint\u001b[39m.\u001b[39mndim \u001b[39m!=\u001b[39m image\u001b[39m.\u001b[39mndim:\n\u001b[1;32m--> 204\u001b[0m     \u001b[39mraise\u001b[39;00m \u001b[39mValueError\u001b[39;00m(\u001b[39m'\u001b[39m\u001b[39mImage dimensions and neighborhood dimensions\u001b[39m\u001b[39m'\u001b[39m\n\u001b[0;32m    205\u001b[0m                      \u001b[39m'\u001b[39m\u001b[39mdo not match\u001b[39m\u001b[39m'\u001b[39m)\n\u001b[0;32m    206\u001b[0m image \u001b[39m=\u001b[39m np\u001b[39m.\u001b[39mascontiguousarray(image)\n\u001b[0;32m    208\u001b[0m \u001b[39mif\u001b[39;00m mask \u001b[39mis\u001b[39;00m \u001b[39mNone\u001b[39;00m:\n",
      "\u001b[1;31mValueError\u001b[0m: Image dimensions and neighborhood dimensionsdo not match"
     ]
    }
   ],
   "source": [
    "from skimage.filters.rank import entropy\n",
    "from skimage.morphology import disk\n",
    "\n",
    "from skimage import io\n",
    "import matplotlib.pyplot as plt\n",
    "import numpy as np\n",
    "\n",
    "img = io.imread(\"Images/a.jpg\")\n",
    "\n",
    "entropy_img = entropy(img, disk(10))\n",
    "plt.imshow(entropy_img)"
   ]
  },
  {
   "cell_type": "code",
   "execution_count": null,
   "metadata": {},
   "outputs": [],
   "source": []
  }
 ],
 "metadata": {
  "kernelspec": {
   "display_name": "aniket",
   "language": "python",
   "name": "python3"
  },
  "language_info": {
   "codemirror_mode": {
    "name": "ipython",
    "version": 3
   },
   "file_extension": ".py",
   "mimetype": "text/x-python",
   "name": "python",
   "nbconvert_exporter": "python",
   "pygments_lexer": "ipython3",
   "version": "3.8.13"
  },
  "orig_nbformat": 4
 },
 "nbformat": 4,
 "nbformat_minor": 2
}
